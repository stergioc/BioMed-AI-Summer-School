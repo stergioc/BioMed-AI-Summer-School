{
 "cells": [
  {
   "attachments": {},
   "cell_type": "markdown",
   "metadata": {},
   "source": [
    "<table>\n",
    "<tr height=\"150px\">\n",
    "<th>\n",
    "<img height=\"80px\" margin=\"20px\" src='https://www.archimedesai.gr/images/logo_en.svg' />\n",
    "</th>\n",
    "<th>\n",
    "<img height=\"150px\" src='https://stergioc.github.io/assets/img/logos.png' />\n",
    "</th>\n",
    "</tr>\n",
    "</table>\n",
    "\n",
    "<h1>Introduction to Deep Learning (Hands-on Tutorial)</h1>\n",
    "<h3>Stergios CHRISTODOULIDIS & Maria Vakalopoulou</h3>"
   ]
  }
 ],
 "metadata": {
  "language_info": {
   "name": "python"
  },
  "orig_nbformat": 4
 },
 "nbformat": 4,
 "nbformat_minor": 2
}
